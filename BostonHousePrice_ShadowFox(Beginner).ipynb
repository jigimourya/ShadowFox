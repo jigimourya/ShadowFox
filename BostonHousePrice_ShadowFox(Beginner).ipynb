{
  "nbformat": 4,
  "nbformat_minor": 0,
  "metadata": {
    "colab": {
      "provenance": []
    },
    "kernelspec": {
      "name": "python3",
      "display_name": "Python 3"
    },
    "language_info": {
      "name": "python"
    }
  },
  "cells": [
    {
      "cell_type": "code",
      "execution_count": 2,
      "metadata": {
        "colab": {
          "base_uri": "https://localhost:8080/"
        },
        "id": "_g6gOV3ehvgD",
        "outputId": "51f018d4-0161-4e69-8261-f29344e59ab5"
      },
      "outputs": [
        {
          "output_type": "stream",
          "name": "stdout",
          "text": [
            "Linear Regression - MSE: 25.00, R²: 0.66\n",
            "Decision Tree - MSE: 14.32, R²: 0.80\n",
            "Gradient Boosting - MSE: 7.24, R²: 0.90\n",
            "Best Gradient Boosting Model after tuning - MSE: 7.19, R²: 0.90\n"
          ]
        }
      ],
      "source": [
        "import pandas as pd\n",
        "import numpy as np\n",
        "from sklearn.model_selection import train_test_split\n",
        "from sklearn.linear_model import LinearRegression\n",
        "from sklearn.tree import DecisionTreeRegressor\n",
        "from sklearn.ensemble import GradientBoostingRegressor\n",
        "from sklearn.metrics import mean_squared_error, r2_score\n",
        "from sklearn.preprocessing import StandardScaler\n",
        "\n",
        "file_path = 'HousingData.csv'\n",
        "housing_data = pd.read_csv(file_path)\n",
        "\n",
        "# Data Preprocessing\n",
        "# Fill missing values with the median of each column\n",
        "housing_data_filled = housing_data.fillna(housing_data.median())\n",
        "\n",
        "# Separate features (X) and target (y)\n",
        "X = housing_data_filled.drop(columns=['MEDV'])\n",
        "y = housing_data_filled['MEDV']\n",
        "\n",
        "X_train, X_test, y_train, y_test = train_test_split(X, y, test_size=0.2, random_state=42)\n",
        "\n",
        "scaler = StandardScaler()\n",
        "X_train_scaled = scaler.fit_transform(X_train)\n",
        "X_test_scaled = scaler.transform(X_test)\n",
        "\n",
        "# Model Selection\n",
        "# Linear Regression, Decision Trees, and Gradient Boosting Regressors\n",
        "models = {\n",
        "    'Linear Regression': LinearRegression(),\n",
        "    'Decision Tree': DecisionTreeRegressor(),\n",
        "    'Gradient Boosting': GradientBoostingRegressor()\n",
        "}\n",
        "\n",
        "# Train and Evaluate each model\n",
        "for name, model in models.items():\n",
        "    model.fit(X_train_scaled, y_train)\n",
        "    y_pred = model.predict(X_test_scaled)\n",
        "\n",
        "    mse = mean_squared_error(y_test, y_pred)\n",
        "    r2 = r2_score(y_test, y_pred)\n",
        "\n",
        "    print(f\"{name} - MSE: {mse:.2f}, R²: {r2:.2f}\")\n",
        "\n",
        "# Fine-tuning Gradient Boosting model\n",
        "from sklearn.model_selection import GridSearchCV\n",
        "\n",
        "param_grid = {\n",
        "    'n_estimators': [100, 200, 300],\n",
        "    'learning_rate': [0.01, 0.1, 0.2],\n",
        "    'max_depth': [3, 5, 7]\n",
        "}\n",
        "\n",
        "# Perform Grid Search for Gradient Boosting Regressor\n",
        "grid_search = GridSearchCV(GradientBoostingRegressor(), param_grid, cv=5)\n",
        "grid_search.fit(X_train_scaled, y_train)\n",
        "\n",
        "best_model = grid_search.best_estimator_\n",
        "\n",
        "y_pred_best = best_model.predict(X_test_scaled)\n",
        "mse_best = mean_squared_error(y_test, y_pred_best)\n",
        "r2_best = r2_score(y_test, y_pred_best)\n",
        "\n",
        "print(f\"Best Gradient Boosting Model after tuning - MSE: {mse_best:.2f}, R²: {r2_best:.2f}\")\n"
      ]
    },
    {
      "cell_type": "code",
      "source": [],
      "metadata": {
        "id": "5WX2Jf-jh0nb"
      },
      "execution_count": null,
      "outputs": []
    }
  ]
}